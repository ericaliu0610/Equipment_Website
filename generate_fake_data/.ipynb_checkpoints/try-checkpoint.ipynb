{
 "cells": [
  {
   "cell_type": "code",
   "execution_count": 32,
   "metadata": {},
   "outputs": [
    {
     "name": "stdout",
     "output_type": "stream",
     "text": [
      "14823, Canisteo, NY\n"
     ]
    }
   ],
   "source": [
    "from barnum import gen_data\n",
    "import pandas as pd\n",
    "import datetime\n",
    "from random import randint\n",
    "\n",
    "data = {\"id\":[], \"name\":[], \"company\": [], \"address\":[], \"tel\": [], \"email\": [], \"quantity\":[], \"stock_date\":[], \"status\": [], \"exp_date\":[]}\n",
    "for i in range(1000):\n",
    "    data[\"id\"].append(i)\n",
    "    data[\"name\"].append(gen_data.create_name(full_name=False))\n",
    "    data[\"company\"].append(gen_data.create_company_name())\n",
    "    data[\"address\"].append(\", \".join(gen_data.create_city_state_zip()))\n",
    "    data[\"tel\"].append(gen_data.create_phone())\n",
    "    data[\"email\"].append(gen_data.create_email())\n",
    "    data[\"quantity\"].append(randint(1, 10000))\n",
    "    d1 = gen_data.create_date(past=True, max_years_future=0)\n",
    "    data[\"stock_date\"].append()\n",
    "    data[\"status\"].append()\n",
    "    d2 = gen_data.create_date(past=False, max_years_future=10)\n",
    "    data[\"exp_date\"].append()"
   ]
  }
 ],
 "metadata": {
  "kernelspec": {
   "display_name": "Python [conda env:py3]",
   "language": "python",
   "name": "conda-env-py3-py"
  },
  "language_info": {
   "codemirror_mode": {
    "name": "ipython",
    "version": 3
   },
   "file_extension": ".py",
   "mimetype": "text/x-python",
   "name": "python",
   "nbconvert_exporter": "python",
   "pygments_lexer": "ipython3",
   "version": "3.6.5"
  }
 },
 "nbformat": 4,
 "nbformat_minor": 2
}
