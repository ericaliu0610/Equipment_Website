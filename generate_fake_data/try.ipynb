{
 "cells": [
  {
   "cell_type": "code",
   "execution_count": 59,
   "metadata": {},
   "outputs": [],
   "source": [
    "from barnum import gen_data\n",
    "import pandas as pd\n",
    "import datetime\n",
    "from random import randint\n",
    "\n",
    "data = {\"id\":[], \"name\":[], \"company\": [], \"address\":[], \"tel\": [], \"email\": [], \"quantity\":[], \"stock_date\":[], \"status\": [], \"exp_date\":[]}\n",
    "for i in range(1000):\n",
    "    data[\"id\"].append(i)\n",
    "    data[\"name\"].append(gen_data.create_name(full_name=False))\n",
    "    data[\"company\"].append(gen_data.create_company_name())\n",
    "    data[\"address\"].append(\", \".join(gen_data.create_city_state_zip()))\n",
    "    data[\"tel\"].append(gen_data.create_phone())\n",
    "    data[\"email\"].append(gen_data.create_email())\n",
    "    data[\"quantity\"].append(randint(1, 10000))\n",
    "    d1 = gen_data.create_date(past=True, max_years_future=0)\n",
    "    d1 = datetime.date(d1.year, d1.month, d1.day)\n",
    "    d1 = datetime.date(randint(2008, 2017), d1.month, d1.day)\n",
    "    data[\"stock_date\"].append(d1)\n",
    "    d2 = gen_data.create_date(past=False, max_years_future=10)\n",
    "    d2 = datetime.date(d2.year, d2.month, d2.day)\n",
    "    delta = d2 - d1\n",
    "    today = datetime.date.today()\n",
    "    delta2 = today -  d1\n",
    "    data[\"status\"].append(\"{0:.2f}\".format(1 - delta2.days/float(delta.days)))\n",
    "    data[\"exp_date\"].append(d2)\n"
   ]
  },
  {
   "cell_type": "code",
   "execution_count": 61,
   "metadata": {},
   "outputs": [
    {
     "name": "stdout",
     "output_type": "stream",
     "text": [
      "                  address                  company  \\\n",
      "0  20639, Huntingtown, MD         Telecom Software   \n",
      "1       14506, Mendon, NY        Max Provider West   \n",
      "2   23824, Blackstone, VA          East Power Bell   \n",
      "3        95377, Tracy, CA  East Virtual Electronic   \n",
      "4    42461, Uniontown, KY       Solutions Analysis   \n",
      "\n",
      "                                 email    exp_date  id   name  quantity  \\\n",
      "0                 Lamont@eaaliquam.edu  2026-02-04   0   Olin      1700   \n",
      "1                  D.Savoy@exerciut.tv  2027-01-15   1  Chang      5358   \n",
      "2               Gene@minimfeugait.info  2021-01-10   2  Ralph      4099   \n",
      "3                Blair@etfacilisis.com  2019-01-13   3  Dolly      3097   \n",
      "4  Matthew@loremtationullamcorper.info  2020-06-05   4  Susie      3114   \n",
      "\n",
      "  status  stock_date            tel  \n",
      "0   0.52  2011-05-18  (661)131-6157  \n",
      "1   0.52  2010-05-20  (323)437-3372  \n",
      "2   0.74  2017-06-02  (662)163-7437  \n",
      "3   0.14  2014-05-25  (919)286-1292  \n",
      "4   0.19  2009-05-31  (251)505-1363  \n"
     ]
    }
   ],
   "source": [
    "data = pd.DataFrame(data)\n",
    "print(data.head())\n",
    "data.to_csv(\"fake_data.csv\", index=False)"
   ]
  }
 ],
 "metadata": {
  "kernelspec": {
   "display_name": "Python [conda env:py3]",
   "language": "python",
   "name": "conda-env-py3-py"
  },
  "language_info": {
   "codemirror_mode": {
    "name": "ipython",
    "version": 3
   },
   "file_extension": ".py",
   "mimetype": "text/x-python",
   "name": "python",
   "nbconvert_exporter": "python",
   "pygments_lexer": "ipython3",
   "version": "3.6.5"
  }
 },
 "nbformat": 4,
 "nbformat_minor": 2
}
